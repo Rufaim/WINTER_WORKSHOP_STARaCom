{
 "cells": [
  {
   "cell_type": "markdown",
   "metadata": {
    "colab_type": "text",
    "id": "yr9rVwpb75_C"
   },
   "source": [
    "# Machine Learning Workshop Practice : Part III\n",
    "\n",
    "This part will show you how to:\n",
    "1. implement Logistic Regression model without keras\n",
    "1. optimize your model without keras"
   ]
  },
  {
   "cell_type": "markdown",
   "metadata": {
    "colab_type": "text",
    "id": "ukwHx9uG9FON"
   },
   "source": [
    "## Packages \n",
    "\n",
    "- [tensorflow](https://www.tensorflow.org) is a fundamental package for automatic differentiation (**still 2.X version**). \n",
    "- [numpy](http://www.numpy.org) is a package for fast math calculations.\n",
    "- [sklearn](http://scikit-learn.org/stable/) provides metrics for performance measuring. \n",
    "- [matplotlib](http://matplotlib.org) is a library for plotting graphs in Python."
   ]
  },
  {
   "cell_type": "code",
   "execution_count": 1,
   "metadata": {
    "colab": {},
    "colab_type": "code",
    "id": "sbMn0Y4aOQQO"
   },
   "outputs": [],
   "source": [
    "import tensorflow as tf\n",
    "import numpy as np\n",
    "from sklearn.metrics import roc_curve, roc_auc_score, classification_report, accuracy_score, confusion_matrix \n",
    "import matplotlib.pyplot as plt"
   ]
  },
  {
   "cell_type": "code",
   "execution_count": 2,
   "metadata": {
    "colab": {},
    "colab_type": "code",
    "id": "XbJVNydNRIdH"
   },
   "outputs": [],
   "source": [
    "SEED = 42\n",
    "LEARNING_RATE = 0.005\n",
    "LEARNING_RATE_DECAY = 0.95    # after each epoch learning rate will be exponentially decreased with this factor \n",
    "BATCH_SIZE = 1200\n",
    "EPOCH = 50                    # total number of epochs\n",
    "SHUFFLE_BEFORE_EPOCH = True   # if true then, before each epoch we are shuffling all data entries in the random order"
   ]
  },
  {
   "cell_type": "markdown",
   "metadata": {
    "colab_type": "text",
    "id": "bwx1G7VzHswk"
   },
   "source": [
    "## Dataset\n",
    "\n",
    "In this section:\n",
    "1. Loading dataset\n",
    "1. Observing data\n",
    "1. Flatting matrix to vectors\n",
    "1. Binarizing labels"
   ]
  },
  {
   "cell_type": "markdown",
   "metadata": {
    "colab_type": "text",
    "id": "CO63Hh3j_qCJ"
   },
   "source": [
    "The **[MNIST](http://yann.lecun.com/exdb/mnist/)** dataset is used in this example.\n",
    "\n",
    "The MNIST is still a database of handwritten digits. It has **60,000 examples as a training set and 10,000 examples as a test set**.\n",
    "All the digits have been size-normalized and centered in a fixed-size\n",
    "Therefore there is **no need to do any preprocessing**."
   ]
  },
  {
   "cell_type": "code",
   "execution_count": 3,
   "metadata": {
    "colab": {},
    "colab_type": "code",
    "id": "yVPbjLAmRBHA"
   },
   "outputs": [],
   "source": [
    "(X_train,y_train),(X_test,y_test) = tf.keras.datasets.mnist.load_data()"
   ]
  },
  {
   "cell_type": "markdown",
   "metadata": {
    "colab_type": "text",
    "id": "0DR2Obs5Jkv5"
   },
   "source": [
    "Let's look at the data closely.\n"
   ]
  },
  {
   "cell_type": "code",
   "execution_count": 4,
   "metadata": {
    "colab": {
     "base_uri": "https://localhost:8080/",
     "height": 209
    },
    "colab_type": "code",
    "id": "fVCz5TwiHsww",
    "outputId": "d69df25b-83b6-4124-97de-4f80a8ee2b54"
   },
   "outputs": [
    {
     "name": "stdout",
     "output_type": "stream",
     "text": [
      "Image shape:  (28, 28)\n",
      "Number of classes:  10\n"
     ]
    },
    {
     "data": {
      "image/png": "[encoded data removed]",
      "text/plain": [
       "<Figure size 432x288 with 1 Axes>"
      ]
     },
     "metadata": {
      "needs_background": "light"
     },
     "output_type": "display_data"
    }
   ],
   "source": [
    "print(\"Image shape: \", X_train.shape[1:])\n",
    "print(\"Number of classes: \", np.unique(y_train).shape[0])\n",
    "\n",
    "img = np.concatenate([X_train[101], X_train[204], X_train[507]],axis=1)\n",
    "\n",
    "plt.title(\"Three mnist examples\")\n",
    "plt.axvline(x=28)\n",
    "plt.axvline(x=28*2)\n",
    "plt.imshow(img, cmap=plt.cm.binary);"
   ]
  },
  {
   "cell_type": "markdown",
   "metadata": {
    "colab_type": "text",
    "id": "5gfR91tOHsw0"
   },
   "source": [
    "Each dataentry is a matrix of size **(28x28)** that contain brightness level of corresponding pixels.\n",
    "Because each dataentry is essentially a digit, thus we have **10 classes** classification problem.\n",
    "\n",
    "\n",
    "Unfortunately, Logistic Regression is not very suitable model for matrix input and multiclass classification. Let's have a fast fix for our problem."
   ]
  },
  {
   "cell_type": "markdown",
   "metadata": {
    "colab_type": "text",
    "id": "MwmnTJL-HOpx"
   },
   "source": [
    "First of all, we are going to replace matrixes with vectors.\n",
    "To do that let's just perform row-wize flatting of each image from **(28, 28)** matrix to a vector of size **784**.\n",
    "\n"
   ]
  },
  {
   "cell_type": "code",
   "execution_count": 5,
   "metadata": {
    "colab": {},
    "colab_type": "code",
    "id": "aS5ViK24U9yK"
   },
   "outputs": [],
   "source": [
    "X_train = X_train.reshape((-1,28*28)).astype(np.float32)\n",
    "X_test = X_test.reshape((-1,28*28)).astype(np.float32)"
   ]
  },
  {
   "cell_type": "markdown",
   "metadata": {
    "colab_type": "text",
    "id": "1I5ELt6jSUZF"
   },
   "source": [
    "Also for numerical stability let's again rescale data from range (0,255) to (0,1)"
   ]
  },
  {
   "cell_type": "code",
   "execution_count": 6,
   "metadata": {
    "colab": {},
    "colab_type": "code",
    "id": "I2wWMWg1ST6N"
   },
   "outputs": [],
   "source": [
    "X_train = X_train / 255\n",
    "X_test = X_test / 255"
   ]
  },
  {
   "cell_type": "markdown",
   "metadata": {
    "colab_type": "text",
    "id": "J2D_deidIR5q"
   },
   "source": [
    "To convert mnist to a binary classification problem we define the\n",
    "ratings of **{5,6,7,8,9} as positive** examples and all other ratings of **{0,1,2,3,4} as negative** ones."
   ]
  },
  {
   "cell_type": "code",
   "execution_count": 7,
   "metadata": {
    "colab": {},
    "colab_type": "code",
    "id": "hJf3Z5TuHsxD"
   },
   "outputs": [],
   "source": [
    "y_train = (y_train>=5).astype(np.float32)\n",
    "y_test = (y_test>=5).astype(np.float32)"
   ]
  },
  {
   "cell_type": "code",
   "execution_count": 8,
   "metadata": {
    "colab": {
     "base_uri": "https://localhost:8080/",
     "height": 119
    },
    "colab_type": "code",
    "id": "W7O8KYs0XH90",
    "outputId": "7d4f4232-9032-4bcc-efeb-5744af30b77e"
   },
   "outputs": [
    {
     "name": "stdout",
     "output_type": "stream",
     "text": [
      "Positive train:  29404\n",
      "Negative train:  30596\n",
      "Total train:  60000\n",
      "Positive test:  4861\n",
      "Negative test:  5139\n",
      "Total test:  10000\n"
     ]
    }
   ],
   "source": [
    "print(\"Positive train: \", np.sum(y_train.astype(np.float32),dtype=np.int))\n",
    "print(\"Negative train: \", y_train.shape[0]-np.sum(y_train.astype(np.float32),dtype=np.int))\n",
    "print(\"Total train: \", y_train.shape[0])\n",
    "\n",
    "print(\"Positive test: \", np.sum(y_test.astype(np.float32),dtype=np.int))\n",
    "print(\"Negative test: \", y_test.shape[0]-np.sum(y_test.astype(np.float32),dtype=np.int))\n",
    "print(\"Total test: \", y_test.shape[0])"
   ]
  },
  {
   "cell_type": "markdown",
   "metadata": {
    "colab_type": "text",
    "id": "TKdRWEAcJJfi"
   },
   "source": [
    "## Logistic Regression model\n",
    "\n",
    "In this section:\n",
    "1. talking about model\n",
    "1. loss function\n",
    "1. optimization steps\n",
    "\n",
    "Output of the model is a probability that given example is positive:\n",
    "$$\n",
    "P(y=1|x )= p = \\sigma(logit) = \\sigma(W^Tx+b)\n",
    "$$\n",
    "\n",
    "Therefore predictin is an indicator that output probability is above threshold of 0.5. However it could be clearly seen from sigmoid plot that same result could be achived by testing sigmoid input on above zero.\n",
    "$$\n",
    "\\hat{y} = [p>0.5] = [logit >0] \n",
    "$$\n",
    "\n",
    "Binary form of Cross Entropy is used for this problem.\n",
    "$$\n",
    "L = - \\sum_{i=1}^N y_i \\log(p_i)+ (1-y_i) \\log(1-p_i)\n",
    "$$\n",
    "For the reasons of numerical stability in actual implementation previous loss is replaced with more stable equivalent.\n",
    "$$\n",
    "L = \\sum_{i=1}^N \\max(logit_i,0) - y_ilogit_i + \\log(1+\\exp(-|logit_i|))\n",
    "$$\n",
    "In tensorflow this loss is represented by class *BinaryCrossentropy* with manually enabled *from_logits* option.\n",
    "\n",
    "```python\n",
    "tf.keras.losses.BinaryCrossentropy(from_logits=True)\n",
    "```\n",
    "\n",
    " "
   ]
  },
  {
   "cell_type": "code",
   "execution_count": 0,
   "metadata": {
    "colab": {},
    "colab_type": "code",
    "id": "C9idkBfyeTy8"
   },
   "outputs": [],
   "source": [
    "class LogisticRegression(object):\n",
    "    def __init__(self, weigths_init=tf.keras.initializers.glorot_normal(seed=SEED), \n",
    "                        bias_init=tf.keras.initializers.constant(0.0)):\n",
    "        self.weigths_init = weigths_init\n",
    "        self.bias_init = bias_init\n",
    "\n",
    "        self._W = None\n",
    "        self._b = None\n",
    "        self._loss_func = tf.keras.losses.BinaryCrossentropy(from_logits=True)\n",
    "\n",
    "    def build(self, num_features):\n",
    "        self.num_features = num_features\n",
    "        self._W = tf.Variable(self.weigths_init([num_features,1]),trainable=True)\n",
    "        self._b = tf.Variable(self.bias_init([1]),trainable=True)\n",
    "    \n",
    "    def predict(self, input):\n",
    "        return self._predict(input).numpy()\n",
    "\n",
    "    def loss(self, input, labels):\n",
    "        assert input.shape[0] == labels.shape[0]\n",
    "        return self._loss(input, labels).numpy()\n",
    "    \n",
    "    def train_step(self, input, labels, learning_rate):\n",
    "        return self._train_step(input, labels, learning_rate).numpy()\n",
    "    \n",
    "    def __call__(self, input):\n",
    "        return self._call(input).numpy()\n",
    "    \n",
    "    def get_variables(self):\n",
    "        return [self._W, self._b]\n",
    "\n",
    "    ## == Private function below THIS line ==\n",
    "\n",
    "    @tf.function\n",
    "    def _predict_logit(self, input):\n",
    "        if self._W is None:\n",
    "            self.build(input.shape[1])\n",
    "        \n",
    "        out = tf.matmul(input, self._W) + self._b\n",
    "        return tf.squeeze(out)\n",
    "\n",
    "    @tf.function\n",
    "    def _predict(self, input):\n",
    "        out =  self._predict_logit(input)\n",
    "        return tf.cast(out >= tf.constant(0.0,dtype=tf.float32), tf.int32)\n",
    "    \n",
    "    @tf.function\n",
    "    def _loss(self, input, labels):\n",
    "        out = self._predict_logit(input)\n",
    "        return self._loss_func(labels,out)\n",
    "\n",
    "    @tf.function\n",
    "    def _train_step(self, input, labels, learning_rate):\n",
    "        with tf.GradientTape() as t:\n",
    "            current_loss = self._loss(input, labels)\n",
    "        \n",
    "        vars = self.get_variables()\n",
    "        grads = t.gradient(current_loss, vars)\n",
    "        \n",
    "        # Stochastic Gradient Descent\n",
    "        for v,g in zip(vars,grads):\n",
    "            v.assign_sub(learning_rate * g)\n",
    "        return current_loss\n",
    "\n",
    "    @tf.function\n",
    "    def _call(self, input):\n",
    "        out = self._predict_logit(input)\n",
    "        return tf.nn.sigmoid(out)"
   ]
  },
  {
   "cell_type": "markdown",
   "metadata": {
    "colab_type": "text",
    "id": "t8TVx6KlTtVv"
   },
   "source": [
    "## Metrics and utilities\n",
    "\n",
    "In this section:\n",
    "1. train misc functions\n",
    "1. observing metrics\n",
    "\n",
    "It could be very hard to perform one train step on the whole dataset because of memory capacity. \n",
    "Therefore we are using minibatch updates."
   ]
  },
  {
   "cell_type": "code",
   "execution_count": 0,
   "metadata": {
    "colab": {},
    "colab_type": "code",
    "id": "ffQSeYqJb2D-"
   },
   "outputs": [],
   "source": [
    "def build_batch_generator(X, y, batch_size):\n",
    "    num_batches = X.shape[0]//batch_size\n",
    "    idxs = np.arange(num_batches*batch_size).reshape((num_batches,batch_size))\n",
    "    \n",
    "    def generator():\n",
    "        for idx in idxs:\n",
    "            yield X[idx], y[idx]\n",
    "    \n",
    "    return generator, num_batches"
   ]
  },
  {
   "cell_type": "code",
   "execution_count": 0,
   "metadata": {
    "colab": {},
    "colab_type": "code",
    "id": "T-qeRO7Xensc"
   },
   "outputs": [],
   "source": [
    "def build_shuffler():\n",
    "    random_state = np.random.RandomState(SEED)\n",
    "    \n",
    "    def shuffler(X, y):\n",
    "        idxs = np.arange(X.shape[0])\n",
    "        random_state.shuffle(idxs)\n",
    "        return X[idxs], y[idxs]\n",
    "    \n",
    "    return shuffler"
   ]
  },
  {
   "cell_type": "code",
   "execution_count": 0,
   "metadata": {
    "colab": {},
    "colab_type": "code",
    "id": "_4v2lCDXRSKv"
   },
   "outputs": [],
   "source": [
    "def normalized_confusion_matrix(y_true, y_pred):\n",
    "    conf_mat = confusion_matrix(y_true, y_pred)\n",
    "    # confusion matrix is needed to be normalized \n",
    "    # to contain rates we would like to see \n",
    "    return conf_mat.astype(np.float32) / conf_mat.sum(axis=1)[:, None]"
   ]
  },
  {
   "cell_type": "markdown",
   "metadata": {
    "colab_type": "text",
    "id": "tgjYUOX1Hsxg"
   },
   "source": [
    "Our primary metrics are:\n",
    "- Accuracy\n",
    "- AUC ROC score\n",
    "\n",
    "We also taking into consideration:\n",
    "- Precision\n",
    "- Recall\n",
    "- F1-score\n",
    "- Confusion Matrix\n",
    "\n",
    "---\n",
    "Would you like to know [more](https://en.wikipedia.org/wiki/Receiver_operating_characteristic)?"
   ]
  },
  {
   "cell_type": "code",
   "execution_count": 0,
   "metadata": {
    "colab": {},
    "colab_type": "code",
    "id": "t3oWuQPBPVQq"
   },
   "outputs": [],
   "source": [
    "def get_metrics(model, X, y, full_report=False):\n",
    "    y_hat = model.predict(X)\n",
    "    y_hat_probs = model(X)\n",
    "    accuracy = accuracy_score(y, y_hat)\n",
    "    auc_roc = roc_auc_score(y, y_hat_probs)\n",
    "    if full_report:\n",
    "        report = classification_report(y, y_hat, digits=2)\n",
    "        conf_mat = normalized_confusion_matrix(y, y_hat)\n",
    "        return accuracy, auc_roc, conf_mat, report\n",
    "    else:\n",
    "        return accuracy, auc_roc"
   ]
  },
  {
   "cell_type": "markdown",
   "metadata": {
    "colab_type": "text",
    "id": "3zt9IwNaMi7-"
   },
   "source": [
    "## Training loop\n",
    "\n",
    "In this section:\n",
    "1. iteratively train model\n",
    "1. collectig metrics\n",
    "\n",
    "\n"
   ]
  },
  {
   "cell_type": "code",
   "execution_count": 0,
   "metadata": {
    "colab": {},
    "colab_type": "code",
    "id": "GmWIZHLfaiMM"
   },
   "outputs": [],
   "source": [
    "shuffler = build_shuffler()\n",
    "model = LogisticRegression()\n",
    "\n",
    "# we will collect metrics on each minibatch of each epoch\n",
    "# NOTE: we are collecting primary metrics only (Accuracy and AUC ROC score)\n",
    "train_accuracy_per_iteration = []\n",
    "train_auc_roc_per_iteration = []\n",
    "test_accuracy_per_iteration = []\n",
    "test_auc_roc_per_iteration = []\n",
    "\n",
    "learning_rate = LEARNING_RATE\n",
    "\n",
    "### SOME MAGICAL PREPARATION TO IMITATE KERAS OUTPUT ###\n",
    "### NOTHING TO BE SCARED OF ###\n",
    "### HONESTLY (TRUST ME!) ###\n",
    "progress_bar_str = \"Epoch {{:<{}}} : [ {{}}{{}} ] \".format(int(np.log10(EPOCH))+1)\n",
    "metrics_bar_str = \"train accuracy: {{:.4f}} \\t test accuracy {{:.4f}} \\t learning rate: {{:.{}}}\".format(\n",
    "                        -int(np.floor(np.log10(LEARNING_RATE*LEARNING_RATE_DECAY**(EPOCH))))+1)\n",
    "### END OF MAGIC HERE ###"
   ]
  },
  {
   "cell_type": "code",
   "execution_count": 17,
   "metadata": {
    "colab": {
     "base_uri": "https://localhost:8080/",
     "height": 938
    },
    "colab_type": "code",
    "id": "5sB2hfhNUw3P",
    "outputId": "6a8b2328-3f16-49f7-d50d-a1a9cf67139a"
   },
   "outputs": [
    {
     "name": "stdout",
     "output_type": "stream",
     "text": [
      "WARNING:tensorflow:From /tensorflow-2.0.0/python3.6/tensorflow_core/python/ops/resource_variable_ops.py:1781: calling BaseResourceVariable.__init__ (from tensorflow.python.ops.resource_variable_ops) with constraint is deprecated and will be removed in a future version.\n",
      "Instructions for updating:\n",
      "If using Keras pass *_constraint arguments to layers.\n",
      "Epoch 1  : [ ++++++++++++++++++++ ] train accuracy: 0.7775 \t test accuracy 0.7561 \t learning rate: 0.005\n",
      "Epoch 2  : [ ++++++++++++++++++++ ] train accuracy: 0.7783 \t test accuracy 0.7868 \t learning rate: 0.00475\n",
      "Epoch 3  : [ ++++++++++++++++++++ ] train accuracy: 0.7967 \t test accuracy 0.8013 \t learning rate: 0.0045125\n",
      "Epoch 4  : [ ++++++++++++++++++++ ] train accuracy: 0.7842 \t test accuracy 0.8095 \t learning rate: 0.0042869\n",
      "Epoch 5  : [ ++++++++++++++++++++ ] train accuracy: 0.8000 \t test accuracy 0.8163 \t learning rate: 0.0040725\n",
      "Epoch 6  : [ ++++++++++++++++++++ ] train accuracy: 0.8283 \t test accuracy 0.8214 \t learning rate: 0.0038689\n",
      "Epoch 7  : [ ++++++++++++++++++++ ] train accuracy: 0.8100 \t test accuracy 0.8237 \t learning rate: 0.0036755\n",
      "Epoch 8  : [ ++++++++++++++++++++ ] train accuracy: 0.8225 \t test accuracy 0.8268 \t learning rate: 0.0034917\n",
      "Epoch 9  : [ ++++++++++++++++++++ ] train accuracy: 0.8158 \t test accuracy 0.8283 \t learning rate: 0.0033171\n",
      "Epoch 10 : [ ++++++++++++++++++++ ] train accuracy: 0.8392 \t test accuracy 0.8302 \t learning rate: 0.0031512\n",
      "Epoch 11 : [ ++++++++++++++++++++ ] train accuracy: 0.8167 \t test accuracy 0.8306 \t learning rate: 0.0029937\n",
      "Epoch 12 : [ ++++++++++++++++++++ ] train accuracy: 0.8108 \t test accuracy 0.8313 \t learning rate: 0.002844\n",
      "Epoch 13 : [ ++++++++++++++++++++ ] train accuracy: 0.8167 \t test accuracy 0.8357 \t learning rate: 0.0027018\n",
      "Epoch 14 : [ ++++++++++++++++++++ ] train accuracy: 0.8400 \t test accuracy 0.8346 \t learning rate: 0.0025667\n",
      "Epoch 15 : [ ++++++++++++++++++++ ] train accuracy: 0.8442 \t test accuracy 0.8364 \t learning rate: 0.0024384\n",
      "Epoch 16 : [ ++++++++++++++++++++ ] train accuracy: 0.8233 \t test accuracy 0.8366 \t learning rate: 0.0023165\n",
      "Epoch 17 : [ ++++++++++++++++++++ ] train accuracy: 0.8292 \t test accuracy 0.8379 \t learning rate: 0.0022006\n",
      "Epoch 18 : [ ++++++++++++++++++++ ] train accuracy: 0.8275 \t test accuracy 0.8402 \t learning rate: 0.0020906\n",
      "Epoch 19 : [ ++++++++++++++++++++ ] train accuracy: 0.8308 \t test accuracy 0.8410 \t learning rate: 0.0019861\n",
      "Epoch 20 : [ ++++++++++++++++++++ ] train accuracy: 0.8192 \t test accuracy 0.8416 \t learning rate: 0.0018868\n",
      "Epoch 21 : [ ++++++++++++++++++++ ] train accuracy: 0.8292 \t test accuracy 0.8426 \t learning rate: 0.0017924\n",
      "Epoch 22 : [ ++++++++++++++++++++ ] train accuracy: 0.8442 \t test accuracy 0.8430 \t learning rate: 0.0017028\n",
      "Epoch 23 : [ ++++++++++++++++++++ ] train accuracy: 0.8250 \t test accuracy 0.8432 \t learning rate: 0.0016177\n",
      "Epoch 24 : [ ++++++++++++++++++++ ] train accuracy: 0.8133 \t test accuracy 0.8446 \t learning rate: 0.0015368\n",
      "Epoch 25 : [ ++++++++++++++++++++ ] train accuracy: 0.8217 \t test accuracy 0.8446 \t learning rate: 0.0014599\n",
      "Epoch 26 : [ ++++++++++++++++++++ ] train accuracy: 0.8525 \t test accuracy 0.8454 \t learning rate: 0.0013869\n",
      "Epoch 27 : [ ++++++++++++++++++++ ] train accuracy: 0.8242 \t test accuracy 0.8460 \t learning rate: 0.0013176\n",
      "Epoch 28 : [ ++++++++++++++++++++ ] train accuracy: 0.8375 \t test accuracy 0.8452 \t learning rate: 0.0012517\n",
      "Epoch 29 : [ ++++++++++++++++++++ ] train accuracy: 0.8417 \t test accuracy 0.8455 \t learning rate: 0.0011891\n",
      "Epoch 30 : [ ++++++++++++++++++++ ] train accuracy: 0.8458 \t test accuracy 0.8458 \t learning rate: 0.0011297\n",
      "Epoch 31 : [ ++++++++++++++++++++ ] train accuracy: 0.8175 \t test accuracy 0.8461 \t learning rate: 0.0010732\n",
      "Epoch 32 : [ ++++++++++++++++++++ ] train accuracy: 0.8267 \t test accuracy 0.8464 \t learning rate: 0.0010195\n",
      "Epoch 33 : [ ++++++++++++++++++++ ] train accuracy: 0.8342 \t test accuracy 0.8480 \t learning rate: 0.00096856\n",
      "Epoch 34 : [ ++++++++++++++++++++ ] train accuracy: 0.8417 \t test accuracy 0.8487 \t learning rate: 0.00092013\n",
      "Epoch 35 : [ ++++++++++++++++++++ ] train accuracy: 0.8358 \t test accuracy 0.8483 \t learning rate: 0.00087412\n",
      "Epoch 36 : [ ++++++++++++++++++++ ] train accuracy: 0.8550 \t test accuracy 0.8484 \t learning rate: 0.00083042\n",
      "Epoch 37 : [ ++++++++++++++++++++ ] train accuracy: 0.8375 \t test accuracy 0.8489 \t learning rate: 0.0007889\n",
      "Epoch 38 : [ ++++++++++++++++++++ ] train accuracy: 0.8383 \t test accuracy 0.8499 \t learning rate: 0.00074945\n",
      "Epoch 39 : [ ++++++++++++++++++++ ] train accuracy: 0.8475 \t test accuracy 0.8504 \t learning rate: 0.00071198\n",
      "Epoch 40 : [ ++++++++++++++++++++ ] train accuracy: 0.8450 \t test accuracy 0.8504 \t learning rate: 0.00067638\n",
      "Epoch 41 : [ ++++++++++++++++++++ ] train accuracy: 0.8425 \t test accuracy 0.8501 \t learning rate: 0.00064256\n",
      "Epoch 42 : [ ++++++++++++++++++++ ] train accuracy: 0.8417 \t test accuracy 0.8500 \t learning rate: 0.00061043\n",
      "Epoch 43 : [ ++++++++++++++++++++ ] train accuracy: 0.8592 \t test accuracy 0.8510 \t learning rate: 0.00057991\n",
      "Epoch 44 : [ ++++++++++++++++++++ ] train accuracy: 0.8308 \t test accuracy 0.8521 \t learning rate: 0.00055092\n",
      "Epoch 45 : [ ++++++++++++++++++++ ] train accuracy: 0.8300 \t test accuracy 0.8510 \t learning rate: 0.00052337\n",
      "Epoch 46 : [ ++++++++++++++++++++ ] train accuracy: 0.8542 \t test accuracy 0.8526 \t learning rate: 0.0004972\n",
      "Epoch 47 : [ ++++++++++++++++++++ ] train accuracy: 0.8700 \t test accuracy 0.8529 \t learning rate: 0.00047234\n",
      "Epoch 48 : [ ++++++++++++++++++++ ] train accuracy: 0.8483 \t test accuracy 0.8525 \t learning rate: 0.00044872\n",
      "Epoch 49 : [ ++++++++++++++++++++ ] train accuracy: 0.8375 \t test accuracy 0.8524 \t learning rate: 0.00042629\n",
      "Epoch 50 : [ ++++++++++++++++++++ ] train accuracy: 0.8483 \t test accuracy 0.8533 \t learning rate: 0.00040497\n"
     ]
    }
   ],
   "source": [
    "for i in range(EPOCH):\n",
    "    if SHUFFLE_BEFORE_EPOCH:\n",
    "        X,y = shuffler(X_train,y_train)\n",
    "    batch_gen, total_batches = build_batch_generator(X,y,BATCH_SIZE)\n",
    "    total_batches -= 1\n",
    "\n",
    "    for j, (batch_x, batch_y) in enumerate(batch_gen()):\n",
    "        # performing mini-batch update\n",
    "        model.train_step(batch_x, batch_y, learning_rate=0.01)\n",
    "\n",
    "        # collecting train metrics\n",
    "        accuracy, auc_roc = get_metrics(model, batch_x, batch_y)\n",
    "        train_accuracy_per_iteration.append(accuracy)\n",
    "        train_auc_roc_per_iteration.append(auc_roc)\n",
    "\n",
    "        # collecting test metrics\n",
    "        ### Start code here ###\n",
    "        \n",
    "        ### end ###\n",
    "\n",
    "        ### YET ANOTHER PORTION OF MAGIC ###\n",
    "        print(\"\\r\", end=\"\")\n",
    "        points = int(j/total_batches*20)\n",
    "        print(progress_bar_str.format(i+1,points*\"+\",(20-points)*\"-\"), end=\"\")\n",
    "        print(metrics_bar_str.format(train_accuracy_per_iteration[-1],accuracy,learning_rate), end=\"\")\n",
    "        ### END OF MAGIC HERE ###\n",
    "\n",
    "    learning_rate *= LEARNING_RATE_DECAY\n",
    "    print()"
   ]
  },
  {
   "cell_type": "markdown",
   "metadata": {
    "colab_type": "text",
    "id": "hsapnBNeQDab"
   },
   "source": [
    "## Results\n",
    "\n",
    "In this section:\n",
    "1. observing learning curves\n",
    "1. collecting **all** the metrics of trained model\n",
    "1. plotting ROC curve"
   ]
  },
  {
   "cell_type": "code",
   "execution_count": 18,
   "metadata": {
    "colab": {
     "base_uri": "https://localhost:8080/",
     "height": 312
    },
    "colab_type": "code",
    "id": "CD3Blx5XkY-b",
    "outputId": "ac67241d-337a-42e3-db6e-a2e00ab95263"
   },
   "outputs": [
    {
     "data": {
      "text/plain": [
       "<matplotlib.legend.Legend at 0x7f4c57f8f9b0>"
      ]
     },
     "execution_count": 18,
     "metadata": {
      "tags": []
     },
     "output_type": "execute_result"
    },
    {
     "data": {
      "image/png": "[encoded data removed]",
      "text/plain": [
       "<Figure size 432x288 with 1 Axes>"
      ]
     },
     "metadata": {
      "tags": []
     },
     "output_type": "display_data"
    }
   ],
   "source": [
    "plt.plot(train_accuracy_per_iteration,\"b-\", label=\"Train\")\n",
    "plt.plot(test_accuracy_per_iteration,\"r--\", label=\"Test\")\n",
    "plt.title(\"Accuracy per iteration\")\n",
    "plt.xlabel(\"Iteration\")\n",
    "plt.ylabel(\"Accuracy\")\n",
    "plt.legend(loc=\"best\")"
   ]
  },
  {
   "cell_type": "code",
   "execution_count": 19,
   "metadata": {
    "colab": {
     "base_uri": "https://localhost:8080/",
     "height": 295
    },
    "colab_type": "code",
    "id": "gM92f38Jlqob",
    "outputId": "5ff05c45-a616-461d-d542-cffcaafcb9bc"
   },
   "outputs": [
    {
     "data": {
      "image/png": "[encoded data removed]",
      "text/plain": [
       "<Figure size 432x288 with 1 Axes>"
      ]
     },
     "metadata": {
      "tags": []
     },
     "output_type": "display_data"
    }
   ],
   "source": [
    "plt.plot(train_auc_roc_per_iteration,\"b-\", label=\"Train\")\n",
    "plt.plot(test_auc_roc_per_iteration,\"r--\", label=\"Test\")\n",
    "plt.title(\"AUC ROC per iteration\")\n",
    "plt.xlabel(\"Iteration\")\n",
    "plt.ylabel(\"AUC ROC score\")\n",
    "plt.legend(loc=\"best\");"
   ]
  },
  {
   "cell_type": "code",
   "execution_count": 20,
   "metadata": {
    "colab": {
     "base_uri": "https://localhost:8080/",
     "height": 272
    },
    "colab_type": "code",
    "id": "UNow1XqvjH34",
    "outputId": "49b45092-01bc-43f4-8e26-2d77a5223640"
   },
   "outputs": [
    {
     "name": "stdout",
     "output_type": "stream",
     "text": [
      "Training confusion matrix:\n",
      " [[0.84184207 0.15815793]\n",
      " [0.15215617 0.84784383]]\n",
      "Training accuracy:  0.8447833333333333\n",
      "Training AUC:  0.9145352861846859\n",
      "Training classification report: \n",
      "               precision    recall  f1-score   support\n",
      "\n",
      "         0.0       0.85      0.84      0.85     30596\n",
      "         1.0       0.84      0.85      0.84     29404\n",
      "\n",
      "    accuracy                           0.84     60000\n",
      "   macro avg       0.84      0.84      0.84     60000\n",
      "weighted avg       0.84      0.84      0.84     60000\n",
      "\n"
     ]
    }
   ],
   "source": [
    "accuracy, auc_roc, conf_mat, report = get_metrics(model, X_train, y_train,full_report=True)\n",
    "print(\"Training confusion matrix:\\n\", conf_mat)\n",
    "print(\"Training accuracy: \", accuracy)\n",
    "print(\"Training AUC: \", auc_roc)\n",
    "print(\"Training classification report: \\n\", report)"
   ]
  },
  {
   "cell_type": "code",
   "execution_count": 21,
   "metadata": {
    "colab": {
     "base_uri": "https://localhost:8080/",
     "height": 272
    },
    "colab_type": "code",
    "id": "C4aBBJ_4kBvI",
    "outputId": "5d8277b8-9312-4ee1-e381-aee9e7e040f8"
   },
   "outputs": [
    {
     "name": "stdout",
     "output_type": "stream",
     "text": [
      "Testing confusion matrix:\n",
      " [[0.84160342 0.15839658]\n",
      " [0.1343345  0.8656655 ]]\n",
      "Testing accuracy:  0.8533\n",
      "Testing AUC:  0.921829947056283\n",
      "Testing classification report: \n",
      "               precision    recall  f1-score   support\n",
      "\n",
      "         0.0       0.87      0.84      0.85      5139\n",
      "         1.0       0.84      0.87      0.85      4861\n",
      "\n",
      "    accuracy                           0.85     10000\n",
      "   macro avg       0.85      0.85      0.85     10000\n",
      "weighted avg       0.85      0.85      0.85     10000\n",
      "\n"
     ]
    }
   ],
   "source": [
    "# metrics for test set\n",
    "accuracy, auc_roc, conf_mat, report = <YOUR CODE>\n",
    "print(\"Testing confusion matrix:\\n\", conf_mat)\n",
    "print(\"Testing accuracy: \", accuracy)\n",
    "print(\"Testing AUC: \", auc_roc)\n",
    "print(\"Testing classification report: \\n\", report)"
   ]
  },
  {
   "cell_type": "code",
   "execution_count": 22,
   "metadata": {
    "colab": {
     "base_uri": "https://localhost:8080/",
     "height": 295
    },
    "colab_type": "code",
    "id": "_lCkQISbkHtn",
    "outputId": "3004a12d-9414-435c-d356-dcef4365d826"
   },
   "outputs": [
    {
     "data": {
      "image/png": "[encoded data removed]",
      "text/plain": [
       "<Figure size 432x288 with 1 Axes>"
      ]
     },
     "metadata": {
      "tags": []
     },
     "output_type": "display_data"
    }
   ],
   "source": [
    "fpr, tpr, thresholds = roc_curve(y_test, model(X_test), drop_intermediate=True)\n",
    "\n",
    "plt.plot(fpr, tpr, [0,1], [0, 1])\n",
    "plt.title(\"ROC curve\")\n",
    "plt.xlabel(\"False positive rate\")\n",
    "plt.ylabel(\"True positive rate\");"
   ]
  },
  {
   "cell_type": "markdown",
   "metadata": {
    "colab_type": "text",
    "id": "Vm5zXELNVYUA"
   },
   "source": [
    "<p align=\"center\">\n",
    "  <b>THE END OF PART II</b>\n",
    "</p>\n",
    "\n"
   ]
  },
  {
   "cell_type": "code",
   "execution_count": 0,
   "metadata": {
    "colab": {},
    "colab_type": "code",
    "id": "jo0TWQ1YVx49"
   },
   "outputs": [],
   "source": []
  }
 ],
 "metadata": {
  "colab": {
   "collapsed_sections": [],
   "name": "Logistic_regression.ipynb",
   "provenance": [],
   "toc_visible": true
  },
  "kernelspec": {
   "display_name": "venv",
   "language": "python",
   "name": "venv"
  },
  "language_info": {
   "codemirror_mode": {
    "name": "ipython",
    "version": 3
   },
   "file_extension": ".py",
   "mimetype": "text/x-python",
   "name": "python",
   "nbconvert_exporter": "python",
   "pygments_lexer": "ipython3",
   "version": "3.7.4"
  }
 },
 "nbformat": 4,
 "nbformat_minor": 1
}
